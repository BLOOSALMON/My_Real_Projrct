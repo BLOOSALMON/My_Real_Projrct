{
  "nbformat": 4,
  "nbformat_minor": 0,
  "metadata": {
    "colab": {
      "provenance": [],
      "authorship_tag": "ABX9TyOnNC2aYbPC+miy/sCjDhU7",
      "include_colab_link": true
    },
    "kernelspec": {
      "name": "python3",
      "display_name": "Python 3"
    },
    "language_info": {
      "name": "python"
    }
  },
  "cells": [
    {
      "cell_type": "markdown",
      "metadata": {
        "id": "view-in-github",
        "colab_type": "text"
      },
      "source": [
        "<a href=\"https://colab.research.google.com/github/BLOOSALMON/My_Real_Projrct/blob/main/%EC%8B%AC%EC%9E%A5%EB%B3%91%EC%98%88%EC%B8%A1ipynb.ipynb\" target=\"_parent\"><img src=\"https://colab.research.google.com/assets/colab-badge.svg\" alt=\"Open In Colab\"/></a>"
      ]
    },
    {
      "cell_type": "code",
      "execution_count": null,
      "metadata": {
        "id": "F4z3sbcu9j50"
      },
      "outputs": [],
      "source": [
        "| `roc_auc_score`   | ROC 커브 아래 면적(AUC)을 계산  | 모델의 전체적인 분류 성능 평가<br>(0.5\\~1.0 사이 값, 클수록 좋음)     |\n",
        "| `precision_score` | 정밀도  = TP / (TP + FP)   | **False Positive** 줄이는 게 중요한 경우 사용<br>(예: 스팸 필터) |\n",
        "| `recall_score`    | 재현율 = TP / (TP + FN)   | **False Negative** 줄이는 게 중요한 경우 사용<br>(예: 암 진단)  |\n",
        "| `f1_score`        | 정밀도와 재현율의 조화 평균        | Precision과 Recall 사이 균형 필요할 때 사용                 |\n",
        "| `roc_curve`       | FPR, TPR, threshold 반환 | ROC 곡선 그리기 위한 좌표 생성                              |\n",
        "| `auc`             | 곡선의 면적 계산              | `roc_curve`로 만든 좌표에 대한 AUC 계산                    |\n"
      ]
    },
    {
      "cell_type": "markdown",
      "source": [
        "StratifiedKFold : 분류 모델용 k 겹 교차 검증, 클래스 별 비율 유지\n"
      ],
      "metadata": {
        "id": "xMbp-TQ9_lrA"
      }
    },
    {
      "cell_type": "code",
      "source": [
        "\n",
        "| `VotingClassifier`           | 여러 모델의 예측을 종합하여 최종 예측    | 병렬 방식 (Bagging 유사) | 다양한 분류기 혼합 가능                   | 여러 모델을 조합하고 싶을 때     |\n",
        "| `AdaBoostClassifier`         | 오분류된 샘플에 가중치를 증가시켜 반복 학습 | 순차적 방식, 가중치 조정     | 주로 `DecisionTree (max_depth=1)` | 간단한 모델을 점점 강화하고 싶을 때 |\n",
        "| `GradientBoostingClassifier` | 이전 오류를 줄이는 방향으로 새 모델을 학습 | 순차적 방식, 성능 우수      | 보통 `DecisionTree`               | 복잡한 비선형 분류 문제        |\n"
      ],
      "metadata": {
        "id": "q3rwUDIh-cIR"
      },
      "execution_count": null,
      "outputs": []
    },
    {
      "cell_type": "code",
      "source": [
        "\n",
        "| 모델 이름 | `MLPClassifier`                                    |\n",
        "| 위치    | `from sklearn.neural_network import MLPClassifier` |\n",
        "| 목적    | 분류 문제 (이진 또는 다중 클래스)                               |\n",
        "| 학습 방법 | 역전파(Backpropagation) + SGD / Adam                  |\n",
        "| 입력 특성 | 수치형 벡터 (이미 정규화 또는 스케일링된 상태 권장)                     |\n",
        "\n"
      ],
      "metadata": {
        "id": "yL-5qu6cByP1"
      },
      "execution_count": null,
      "outputs": []
    },
    {
      "cell_type": "code",
      "source": [
        "| 위치       | `from sklearn.linear_model import SGDClassifier`    |\n",
        "| 핵심 알고리즘  | 확률적 경사하강법(Stochastic Gradient Descent)              |\n",
        "| 지원 손실 함수 | `hinge` (SVM), `log_loss` (로지스틱 회귀), `perceptron` 등 |\n",
        "| 장점       | 대규모 데이터셋 처리, 온라인 학습 가능, 빠름                          |\n",
        "| 단점       | 하이퍼파라미터에 민감, 조기 종료 가능성 있음                           |\n"
      ],
      "metadata": {
        "id": "r9hcaNi0B4EA"
      },
      "execution_count": null,
      "outputs": []
    },
    {
      "cell_type": "code",
      "source": [
        "| 클래스     | `SVC` (`sklearn.svm.SVC`)                     |\n",
        "| 목적      | 분류 (이진 및 다중 클래스)                              |\n",
        "| 핵심 아이디어 | \\*\\*결정 경계(margin)\\*\\*를 최대화하는 초평면을 찾음          |\n",
        "| 커널 함수   | 선형, 다항식, RBF(기본), sigmoid 등 다양한 **비선형 매핑** 지원 |\n",
        "| 장점      | 정밀도 높음, 고차원 데이터에 강함                           |\n",
        "| 단점      | 느릴 수 있음 (대용량 데이터에서 비효율적), 하이퍼파라미터 민감          |\n"
      ],
      "metadata": {
        "id": "Y7sL9HswCHCd"
      },
      "execution_count": null,
      "outputs": []
    },
    {
      "cell_type": "code",
      "source": [
        "Scipy 라이브러리의 stats 모듈을 불러옵니다.\n",
        "\n",
        "stats 모듈은 다음과 같은 통계 함수들을 제공합니다:\n",
        "\n",
        "확률분포 (정규분포 norm, t분포 t, 카이제곱분포 chi2, 등)\n",
        "\n",
        "검정 (t-검정, 카이제곱검정 등)\n",
        "\n",
        "상관관계 분석, p-value 계산\n",
        "\n",
        "import warnings\n",
        "경고 메시지를 제어하기 위한 warnings 모듈을 불러옵니다.\n",
        "\n",
        "3. warnings.filterwarnings('ignore')\n",
        "모든 경고 메시지를 무시(ignore) 하도록 설정합니다.\n",
        "\n",
        "분석 중 나오는 \"FutureWarning\"이나 \"DeprecationWarning\" 등을 출력하지 않도록 억제합니다.\n",
        "\n",
        "주의: 개발 단계에서는 유용한 경고까지 사라질 수 있으므로, 최종 배포 전 한시적으로 쓰는 게 좋습니다."
      ],
      "metadata": {
        "id": "gkBm1XreCR_H"
      },
      "execution_count": null,
      "outputs": []
    },
    {
      "cell_type": "code",
      "source": [
        "| 함수          | 설명                                               |\n",
        "| ----------- | ------------------------------------------------ |\n",
        "| `df.isna()` | 각 셀의 값이 `NaN`인지 여부를 `True/False`로 반환하는 DataFrame |\n",
        "| `.sum()`    | 각 열에서 `True`값(=결측값)의 개수를 합산                      |\n"
      ],
      "metadata": {
        "id": "PbhlsY3KOvnH"
      },
      "execution_count": null,
      "outputs": []
    },
    {
      "cell_type": "code",
      "source": [
        "| 파라미터 | 설명 |\n",
        "|----------|------|\n",
        "| `nrows=1` | 1행 |\n",
        "| `ncols=2` | 2열 (→ 총 2개의 subplot 생성) |\n",
        "| `sharey=False` | y축을 공유하지 않음 (`True`이면 두 그래프의 y축 범위가 동일하게 고정됨) |\n",
        "| `figsize=(10, 5)` | 전체 figure의 크기 (너비 10인치, 높이 5인치) |\n",
        "| `facecolor=(.94, .94, .94)` | 배경색 (밝은 회색) – RGB 비율로 지정 (0~1 사이) |"
      ],
      "metadata": {
        "id": "ZKLGgi-2OwYl"
      },
      "execution_count": null,
      "outputs": []
    },
    {
      "cell_type": "code",
      "source": [
        "# 📊 성별(Gender)과 나이(Age) 분포 시각화\n",
        "\n",
        "import matplotlib.pyplot as plt\n",
        "import seaborn as sns\n",
        "\n",
        "# 전체 그림(Figure) 생성: 16인치 x 10인치 사이즈\n",
        "plt.figure(figsize=(16, 10))\n",
        "\n",
        "# 2행 2열 중 첫 번째 영역 선택 (왼쪽 위)\n",
        "plt.subplot(221)\n",
        "\n",
        "# ▶ 성별 분포 파이차트 그리기\n",
        "df[\"sex\"].value_counts().plot.pie(\n",
        "    autopct=\"%1.0f%%\",  # 백분율 표시 (소수점 없음)\n",
        "    colors=sns.color_palette(\"crest\", 5),  # 파이 조각 색상\n",
        "    startangle=60,  # 파이 시작 각도 (1시 방향에서 시작)\n",
        "    labels=[\"Male\", \"Female\"],  # 라벨 지정 (값 순서에 주의)\n",
        "    wedgeprops={\"linewidth\": 2, \"edgecolor\": \"k\"},  # 조각 테두리 선\n",
        "    explode=[.1, .1],  # 조각 분리 효과\n",
        "    shadow=False  # 그림자 효과 없음\n",
        ")\n",
        "\n",
        "# 차트 제목\n",
        "plt.title(\"Distribution of Gender\")\n",
        "\n",
        "# 2행 2열 중 두 번째 영역 선택 (오른쪽 위)\n",
        "plt.subplot(222)\n",
        "\n",
        "# ▶ 나이 분포 히스토그램 + 밀도 추정 그래프\n",
        "# (주의: distplot은 seaborn 최신 버전에선 deprecated)\n",
        "ax = sns.distplot(df['age'], rug=True)  # rug=True: 실제 값 작은 선으로 표시\n",
        "\n",
        "# 차트 제목\n",
        "plt.title(\"Age wise distribution\")\n",
        "\n",
        "# 모든 그래프 출력\n",
        "plt.show()\n"
      ],
      "metadata": {
        "id": "Ky0kfV5JxFcb"
      },
      "execution_count": null,
      "outputs": []
    },
    {
      "cell_type": "code",
      "source": [
        "scoring = 'accuracy' # 정확도, 주의 불균형 데이터'\n",
        "seed = 7 #난수\n",
        "cross_val_score # 교차검증 함수\n",
        "| 예측 확률 | 실제값 | Log Loss  |\n",
        "| ----- | --- | --------- |\n",
        "| 0.9   | 1   | 낮음 👍     |\n",
        "| 0.1   | 1   | 매우 높음 ❌   |\n",
        "| 0.5   | 1   | 중간        |\n",
        "| 0.9   | 0   | 매우 높음 ❌   |\n",
        "| 0.99  | 1   | 더 낮음 👍👍 |\n",
        "\n"
      ],
      "metadata": {
        "id": "XxTCEdgZAPMb"
      },
      "execution_count": null,
      "outputs": []
    },
    {
      "cell_type": "code",
      "source": [
        "SGDClassifier(max_iter=1000, tol=1e-4)\n",
        "확률적 경사 하강법 분류기 (SGDClassifier)"
      ],
      "metadata": {
        "id": "W5ta0Rg8DsN0"
      },
      "execution_count": null,
      "outputs": []
    },
    {
      "cell_type": "code",
      "source": [
        "import numpy as np\n",
        "import pandas as pd\n",
        "import seaborn as sns\n",
        "import matplotlib.pyplot as plt\n",
        "from sklearn.model_selection import train_test_aplit\n",
        "from sklearn.metrics import log_loss, roc_auc_score, precision_score,\n",
        "f1_score, recall_score, roc_curve, auc\n",
        "from sklearn.metrincs import"
      ],
      "metadata": {
        "id": "CovGBqVyF61o",
        "outputId": "2f48f606-8026-487a-a0a0-525076bad54c",
        "colab": {
          "base_uri": "https://localhost:8080/",
          "height": 109
        }
      },
      "execution_count": null,
      "outputs": [
        {
          "output_type": "error",
          "ename": "SyntaxError",
          "evalue": "trailing comma not allowed without surrounding parentheses (<ipython-input-1-4366a483b920>, line 6)",
          "traceback": [
            "\u001b[0;36m  File \u001b[0;32m\"<ipython-input-1-4366a483b920>\"\u001b[0;36m, line \u001b[0;32m6\u001b[0m\n\u001b[0;31m    from sklearn.metrics import log_loss, roc_auc_score, precision_score,\u001b[0m\n\u001b[0m                                                                         ^\u001b[0m\n\u001b[0;31mSyntaxError\u001b[0m\u001b[0;31m:\u001b[0m trailing comma not allowed without surrounding parentheses\n"
          ]
        }
      ]
    },
    {
      "cell_type": "code",
      "source": [
        "import kagglehub\n",
        "\n",
        "# Download latest version\n",
        "path = kagglehub.dataset_download(\"jsmith51/aqi-relation-to-respiratory-death-rate\")\n",
        "\n",
        "print(\"Path to dataset files:\", path)"
      ],
      "metadata": {
        "colab": {
          "base_uri": "https://localhost:8080/"
        },
        "id": "DF4HuTaOFQIc",
        "outputId": "af312f9a-e183-47f1-9cf9-67f1a4a11da5"
      },
      "execution_count": null,
      "outputs": [
        {
          "output_type": "stream",
          "name": "stdout",
          "text": [
            "Downloading from https://www.kaggle.com/api/v1/datasets/download/jsmith51/aqi-relation-to-respiratory-death-rate?dataset_version_number=2...\n"
          ]
        },
        {
          "output_type": "stream",
          "name": "stderr",
          "text": [
            "100%|██████████| 654k/654k [00:00<00:00, 21.1MB/s]"
          ]
        },
        {
          "output_type": "stream",
          "name": "stdout",
          "text": [
            "Extracting files...\n",
            "Path to dataset files: /root/.cache/kagglehub/datasets/jsmith51/aqi-relation-to-respiratory-death-rate/versions/2\n"
          ]
        },
        {
          "output_type": "stream",
          "name": "stderr",
          "text": [
            "\n"
          ]
        }
      ]
    },
    {
      "cell_type": "code",
      "source": [
        "df = pd.read_csv('/kaggle/input/heart-disease-statlog/Heart_disease_statlog.csv')\n",
        "df.head()"
      ],
      "metadata": {
        "colab": {
          "base_uri": "https://localhost:8080/",
          "height": 182
        },
        "id": "CbksyTmkFv4-",
        "outputId": "736ae974-2a4a-4637-b22a-f4d545836a09"
      },
      "execution_count": null,
      "outputs": [
        {
          "output_type": "error",
          "ename": "NameError",
          "evalue": "name 'pd' is not defined",
          "traceback": [
            "\u001b[0;31m---------------------------------------------------------------------------\u001b[0m",
            "\u001b[0;31mNameError\u001b[0m                                 Traceback (most recent call last)",
            "\u001b[0;32m<ipython-input-2-9438b9ade6d4>\u001b[0m in \u001b[0;36m<cell line: 0>\u001b[0;34m()\u001b[0m\n\u001b[0;32m----> 1\u001b[0;31m \u001b[0mdf\u001b[0m \u001b[0;34m=\u001b[0m \u001b[0mpd\u001b[0m\u001b[0;34m.\u001b[0m\u001b[0mread_csv\u001b[0m\u001b[0;34m(\u001b[0m\u001b[0;34m'/kaggle/input/heart-disease-statlog/Heart_disease_statlog.csv'\u001b[0m\u001b[0;34m)\u001b[0m\u001b[0;34m\u001b[0m\u001b[0;34m\u001b[0m\u001b[0m\n\u001b[0m\u001b[1;32m      2\u001b[0m \u001b[0mdf\u001b[0m\u001b[0;34m.\u001b[0m\u001b[0mhead\u001b[0m\u001b[0;34m(\u001b[0m\u001b[0;34m)\u001b[0m\u001b[0;34m\u001b[0m\u001b[0;34m\u001b[0m\u001b[0m\n",
            "\u001b[0;31mNameError\u001b[0m: name 'pd' is not defined"
          ]
        }
      ]
    },
    {
      "cell_type": "code",
      "source": [],
      "metadata": {
        "id": "IasIvAndQQKs"
      },
      "execution_count": null,
      "outputs": []
    }
  ]
}